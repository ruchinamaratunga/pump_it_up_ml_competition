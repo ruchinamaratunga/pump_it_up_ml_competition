{
  "nbformat": 4,
  "nbformat_minor": 0,
  "metadata": {
    "colab": {
      "name": "final_project.ipynb",
      "provenance": [],
      "collapsed_sections": [],
      "toc_visible": true,
      "mount_file_id": "1qI7afXwM23SEnmPAHgIFL1McJuGV9sXV",
      "authorship_tag": "ABX9TyOfQdyUoVvjHwwBwf1uRztj",
      "include_colab_link": true
    },
    "kernelspec": {
      "name": "python3",
      "display_name": "Python 3"
    },
    "language_info": {
      "name": "python"
    }
  },
  "cells": [
    {
      "cell_type": "markdown",
      "metadata": {
        "id": "view-in-github",
        "colab_type": "text"
      },
      "source": [
        "<a href=\"https://colab.research.google.com/github/ruchinamaratunga/pump_it_up_ml_competition/blob/main/final_project.ipynb\" target=\"_parent\"><img src=\"https://colab.research.google.com/assets/colab-badge.svg\" alt=\"Open In Colab\"/></a>"
      ]
    },
    {
      "cell_type": "code",
      "metadata": {
        "colab": {
          "base_uri": "https://localhost:8080/"
        },
        "id": "cOB2lygLUshY",
        "outputId": "9c0d95c3-9722-4ba5-aaf4-76ace6d26c0c"
      },
      "source": [
        "!pip install geopandas"
      ],
      "execution_count": 230,
      "outputs": [
        {
          "output_type": "stream",
          "name": "stdout",
          "text": [
            "Requirement already satisfied: geopandas in /usr/local/lib/python3.7/dist-packages (0.9.0)\n",
            "Requirement already satisfied: pyproj>=2.2.0 in /usr/local/lib/python3.7/dist-packages (from geopandas) (3.2.0)\n",
            "Requirement already satisfied: fiona>=1.8 in /usr/local/lib/python3.7/dist-packages (from geopandas) (1.8.20)\n",
            "Requirement already satisfied: pandas>=0.24.0 in /usr/local/lib/python3.7/dist-packages (from geopandas) (1.1.5)\n",
            "Requirement already satisfied: shapely>=1.6 in /usr/local/lib/python3.7/dist-packages (from geopandas) (1.7.1)\n",
            "Requirement already satisfied: six>=1.7 in /usr/local/lib/python3.7/dist-packages (from fiona>=1.8->geopandas) (1.15.0)\n",
            "Requirement already satisfied: click>=4.0 in /usr/local/lib/python3.7/dist-packages (from fiona>=1.8->geopandas) (7.1.2)\n",
            "Requirement already satisfied: setuptools in /usr/local/lib/python3.7/dist-packages (from fiona>=1.8->geopandas) (57.4.0)\n",
            "Requirement already satisfied: certifi in /usr/local/lib/python3.7/dist-packages (from fiona>=1.8->geopandas) (2021.5.30)\n",
            "Requirement already satisfied: attrs>=17 in /usr/local/lib/python3.7/dist-packages (from fiona>=1.8->geopandas) (21.2.0)\n",
            "Requirement already satisfied: munch in /usr/local/lib/python3.7/dist-packages (from fiona>=1.8->geopandas) (2.5.0)\n",
            "Requirement already satisfied: click-plugins>=1.0 in /usr/local/lib/python3.7/dist-packages (from fiona>=1.8->geopandas) (1.1.1)\n",
            "Requirement already satisfied: cligj>=0.5 in /usr/local/lib/python3.7/dist-packages (from fiona>=1.8->geopandas) (0.7.2)\n",
            "Requirement already satisfied: python-dateutil>=2.7.3 in /usr/local/lib/python3.7/dist-packages (from pandas>=0.24.0->geopandas) (2.8.2)\n",
            "Requirement already satisfied: pytz>=2017.2 in /usr/local/lib/python3.7/dist-packages (from pandas>=0.24.0->geopandas) (2018.9)\n",
            "Requirement already satisfied: numpy>=1.15.4 in /usr/local/lib/python3.7/dist-packages (from pandas>=0.24.0->geopandas) (1.19.5)\n"
          ]
        }
      ]
    },
    {
      "cell_type": "code",
      "metadata": {
        "id": "8crUwVZdCQdY"
      },
      "source": [
        "import matplotlib.pyplot as plt\n",
        "import numpy as np\n",
        "import pandas as pd\n",
        "import seaborn as sns\n",
        "import geopandas\n",
        "from scipy import stats\n",
        "\n",
        "plt.style.use(\"seaborn-whitegrid\")"
      ],
      "execution_count": 231,
      "outputs": []
    },
    {
      "cell_type": "code",
      "metadata": {
        "id": "oyFI-22zifv5"
      },
      "source": [
        "label_path = \"/content/drive/MyDrive/Colab Notebooks/ML_final_project/train_label.csv\"\n",
        "data_path = \"/content/drive/MyDrive/Colab Notebooks/ML_final_project/train_values.csv\"\n",
        "test_path = \"/content/drive/MyDrive/Colab Notebooks/ML_final_project/test.csv\"\n",
        "\n",
        "labels = pd.read_csv(label_path)\n",
        "data = pd.read_csv(data_path)"
      ],
      "execution_count": 232,
      "outputs": []
    },
    {
      "cell_type": "markdown",
      "metadata": {
        "id": "2i81uT93gjvB"
      },
      "source": [
        "# Data Analytics\n"
      ]
    },
    {
      "cell_type": "markdown",
      "metadata": {
        "id": "OpJkjtEZ-2n5"
      },
      "source": [
        "* `amount_tsh` - Total static head (amount water available to waterpoint)\n",
        "* `date_recorded` - The date the row was entered\n",
        "* `funder` - Who funded the well\n",
        "* `gps_height` - Altitude of the well\n",
        "* `installer` - Organization that installed the well\n",
        "* `longitude` - GPS coordinate\n",
        "* `latitude` - GPS coordinate\n",
        "* `wpt_name` - Name of the waterpoint if there is one\n",
        "* `num_private` -\n",
        "* `basin` - Geographic water basin\n",
        "* `subvillage` - Geographic location\n",
        "* `region` - Geographic location\n",
        "* `region_code` - Geographic location (coded)\n",
        "* `district_code` - Geographic location (coded)\n",
        "* `lga` - Geographic location\n",
        "* `ward` - Geographic location\n",
        "* `population` - Population around the well\n",
        "* `public_meeting` - True/False\n",
        "* `recorded_by` - Group entering this row of data\n",
        "* `scheme_management` - Who operates the waterpoint\n",
        "* `scheme_name` - Who operates the waterpoint\n",
        "* `permit` - If the waterpoint is permitted\n",
        "* `construction_year` - Year the waterpoint was constructed\n",
        "* `extraction_type` - The kind of extraction the waterpoint uses\n",
        "* `extraction_type_group` - The kind of extraction the waterpoint uses\n",
        "* `extraction_type_class` - The kind of extraction the waterpoint uses\n",
        "* `management` - How the waterpoint is managed\n",
        "* `management_group` - How the waterpoint is managed\n",
        "* `payment` - What the water costs\n",
        "* `payment_type` - What the water costs\n",
        "* `water_quality` - The quality of the water\n",
        "* `quality_group` - The quality of the water\n",
        "* `quantity` - The quantity of water\n",
        "* `quantity_group` - The quantity of water\n",
        "* `source` - The source of the water\n",
        "* `source_type` - The source of the water\n",
        "* `source_class` - The source of the water\n",
        "* `waterpoint_type` - The kind of waterpoint\n",
        "* `waterpoint_type_group` - The kind of waterpoint"
      ]
    },
    {
      "cell_type": "code",
      "metadata": {
        "colab": {
          "base_uri": "https://localhost:8080/",
          "height": 202
        },
        "id": "4hVMoFXKjTUB",
        "outputId": "9262b0b1-c83c-4e60-9622-71a7fcda43e4"
      },
      "source": [
        "labels.head()"
      ],
      "execution_count": 233,
      "outputs": [
        {
          "output_type": "execute_result",
          "data": {
            "text/html": [
              "<div>\n",
              "<style scoped>\n",
              "    .dataframe tbody tr th:only-of-type {\n",
              "        vertical-align: middle;\n",
              "    }\n",
              "\n",
              "    .dataframe tbody tr th {\n",
              "        vertical-align: top;\n",
              "    }\n",
              "\n",
              "    .dataframe thead th {\n",
              "        text-align: right;\n",
              "    }\n",
              "</style>\n",
              "<table border=\"1\" class=\"dataframe\">\n",
              "  <thead>\n",
              "    <tr style=\"text-align: right;\">\n",
              "      <th></th>\n",
              "      <th>id</th>\n",
              "      <th>status_group</th>\n",
              "    </tr>\n",
              "  </thead>\n",
              "  <tbody>\n",
              "    <tr>\n",
              "      <th>0</th>\n",
              "      <td>69572</td>\n",
              "      <td>functional</td>\n",
              "    </tr>\n",
              "    <tr>\n",
              "      <th>1</th>\n",
              "      <td>8776</td>\n",
              "      <td>functional</td>\n",
              "    </tr>\n",
              "    <tr>\n",
              "      <th>2</th>\n",
              "      <td>34310</td>\n",
              "      <td>functional</td>\n",
              "    </tr>\n",
              "    <tr>\n",
              "      <th>3</th>\n",
              "      <td>67743</td>\n",
              "      <td>non functional</td>\n",
              "    </tr>\n",
              "    <tr>\n",
              "      <th>4</th>\n",
              "      <td>19728</td>\n",
              "      <td>functional</td>\n",
              "    </tr>\n",
              "  </tbody>\n",
              "</table>\n",
              "</div>"
            ],
            "text/plain": [
              "      id    status_group\n",
              "0  69572      functional\n",
              "1   8776      functional\n",
              "2  34310      functional\n",
              "3  67743  non functional\n",
              "4  19728      functional"
            ]
          },
          "metadata": {},
          "execution_count": 233
        }
      ]
    },
    {
      "cell_type": "code",
      "metadata": {
        "colab": {
          "base_uri": "https://localhost:8080/",
          "height": 405
        },
        "id": "Dr7QUsn_jWLy",
        "outputId": "44842548-9a67-4ec6-9406-d40ee9974c82"
      },
      "source": [
        "df = data.copy()\n",
        "df[\"status_group\"] = labels[\"status_group\"]\n",
        "data = df.copy()\n",
        "df.head()"
      ],
      "execution_count": 234,
      "outputs": [
        {
          "output_type": "execute_result",
          "data": {
            "text/html": [
              "<div>\n",
              "<style scoped>\n",
              "    .dataframe tbody tr th:only-of-type {\n",
              "        vertical-align: middle;\n",
              "    }\n",
              "\n",
              "    .dataframe tbody tr th {\n",
              "        vertical-align: top;\n",
              "    }\n",
              "\n",
              "    .dataframe thead th {\n",
              "        text-align: right;\n",
              "    }\n",
              "</style>\n",
              "<table border=\"1\" class=\"dataframe\">\n",
              "  <thead>\n",
              "    <tr style=\"text-align: right;\">\n",
              "      <th></th>\n",
              "      <th>id</th>\n",
              "      <th>amount_tsh</th>\n",
              "      <th>date_recorded</th>\n",
              "      <th>funder</th>\n",
              "      <th>gps_height</th>\n",
              "      <th>installer</th>\n",
              "      <th>longitude</th>\n",
              "      <th>latitude</th>\n",
              "      <th>wpt_name</th>\n",
              "      <th>num_private</th>\n",
              "      <th>basin</th>\n",
              "      <th>subvillage</th>\n",
              "      <th>region</th>\n",
              "      <th>region_code</th>\n",
              "      <th>district_code</th>\n",
              "      <th>lga</th>\n",
              "      <th>ward</th>\n",
              "      <th>population</th>\n",
              "      <th>public_meeting</th>\n",
              "      <th>recorded_by</th>\n",
              "      <th>scheme_management</th>\n",
              "      <th>scheme_name</th>\n",
              "      <th>permit</th>\n",
              "      <th>construction_year</th>\n",
              "      <th>extraction_type</th>\n",
              "      <th>extraction_type_group</th>\n",
              "      <th>extraction_type_class</th>\n",
              "      <th>management</th>\n",
              "      <th>management_group</th>\n",
              "      <th>payment</th>\n",
              "      <th>payment_type</th>\n",
              "      <th>water_quality</th>\n",
              "      <th>quality_group</th>\n",
              "      <th>quantity</th>\n",
              "      <th>quantity_group</th>\n",
              "      <th>source</th>\n",
              "      <th>source_type</th>\n",
              "      <th>source_class</th>\n",
              "      <th>waterpoint_type</th>\n",
              "      <th>waterpoint_type_group</th>\n",
              "      <th>status_group</th>\n",
              "    </tr>\n",
              "  </thead>\n",
              "  <tbody>\n",
              "    <tr>\n",
              "      <th>0</th>\n",
              "      <td>69572</td>\n",
              "      <td>6000.0</td>\n",
              "      <td>2011-03-14</td>\n",
              "      <td>Roman</td>\n",
              "      <td>1390</td>\n",
              "      <td>Roman</td>\n",
              "      <td>34.938093</td>\n",
              "      <td>-9.856322</td>\n",
              "      <td>none</td>\n",
              "      <td>0</td>\n",
              "      <td>Lake Nyasa</td>\n",
              "      <td>Mnyusi B</td>\n",
              "      <td>Iringa</td>\n",
              "      <td>11</td>\n",
              "      <td>5</td>\n",
              "      <td>Ludewa</td>\n",
              "      <td>Mundindi</td>\n",
              "      <td>109</td>\n",
              "      <td>True</td>\n",
              "      <td>GeoData Consultants Ltd</td>\n",
              "      <td>VWC</td>\n",
              "      <td>Roman</td>\n",
              "      <td>False</td>\n",
              "      <td>1999</td>\n",
              "      <td>gravity</td>\n",
              "      <td>gravity</td>\n",
              "      <td>gravity</td>\n",
              "      <td>vwc</td>\n",
              "      <td>user-group</td>\n",
              "      <td>pay annually</td>\n",
              "      <td>annually</td>\n",
              "      <td>soft</td>\n",
              "      <td>good</td>\n",
              "      <td>enough</td>\n",
              "      <td>enough</td>\n",
              "      <td>spring</td>\n",
              "      <td>spring</td>\n",
              "      <td>groundwater</td>\n",
              "      <td>communal standpipe</td>\n",
              "      <td>communal standpipe</td>\n",
              "      <td>functional</td>\n",
              "    </tr>\n",
              "    <tr>\n",
              "      <th>1</th>\n",
              "      <td>8776</td>\n",
              "      <td>0.0</td>\n",
              "      <td>2013-03-06</td>\n",
              "      <td>Grumeti</td>\n",
              "      <td>1399</td>\n",
              "      <td>GRUMETI</td>\n",
              "      <td>34.698766</td>\n",
              "      <td>-2.147466</td>\n",
              "      <td>Zahanati</td>\n",
              "      <td>0</td>\n",
              "      <td>Lake Victoria</td>\n",
              "      <td>Nyamara</td>\n",
              "      <td>Mara</td>\n",
              "      <td>20</td>\n",
              "      <td>2</td>\n",
              "      <td>Serengeti</td>\n",
              "      <td>Natta</td>\n",
              "      <td>280</td>\n",
              "      <td>NaN</td>\n",
              "      <td>GeoData Consultants Ltd</td>\n",
              "      <td>Other</td>\n",
              "      <td>NaN</td>\n",
              "      <td>True</td>\n",
              "      <td>2010</td>\n",
              "      <td>gravity</td>\n",
              "      <td>gravity</td>\n",
              "      <td>gravity</td>\n",
              "      <td>wug</td>\n",
              "      <td>user-group</td>\n",
              "      <td>never pay</td>\n",
              "      <td>never pay</td>\n",
              "      <td>soft</td>\n",
              "      <td>good</td>\n",
              "      <td>insufficient</td>\n",
              "      <td>insufficient</td>\n",
              "      <td>rainwater harvesting</td>\n",
              "      <td>rainwater harvesting</td>\n",
              "      <td>surface</td>\n",
              "      <td>communal standpipe</td>\n",
              "      <td>communal standpipe</td>\n",
              "      <td>functional</td>\n",
              "    </tr>\n",
              "    <tr>\n",
              "      <th>2</th>\n",
              "      <td>34310</td>\n",
              "      <td>25.0</td>\n",
              "      <td>2013-02-25</td>\n",
              "      <td>Lottery Club</td>\n",
              "      <td>686</td>\n",
              "      <td>World vision</td>\n",
              "      <td>37.460664</td>\n",
              "      <td>-3.821329</td>\n",
              "      <td>Kwa Mahundi</td>\n",
              "      <td>0</td>\n",
              "      <td>Pangani</td>\n",
              "      <td>Majengo</td>\n",
              "      <td>Manyara</td>\n",
              "      <td>21</td>\n",
              "      <td>4</td>\n",
              "      <td>Simanjiro</td>\n",
              "      <td>Ngorika</td>\n",
              "      <td>250</td>\n",
              "      <td>True</td>\n",
              "      <td>GeoData Consultants Ltd</td>\n",
              "      <td>VWC</td>\n",
              "      <td>Nyumba ya mungu pipe scheme</td>\n",
              "      <td>True</td>\n",
              "      <td>2009</td>\n",
              "      <td>gravity</td>\n",
              "      <td>gravity</td>\n",
              "      <td>gravity</td>\n",
              "      <td>vwc</td>\n",
              "      <td>user-group</td>\n",
              "      <td>pay per bucket</td>\n",
              "      <td>per bucket</td>\n",
              "      <td>soft</td>\n",
              "      <td>good</td>\n",
              "      <td>enough</td>\n",
              "      <td>enough</td>\n",
              "      <td>dam</td>\n",
              "      <td>dam</td>\n",
              "      <td>surface</td>\n",
              "      <td>communal standpipe multiple</td>\n",
              "      <td>communal standpipe</td>\n",
              "      <td>functional</td>\n",
              "    </tr>\n",
              "    <tr>\n",
              "      <th>3</th>\n",
              "      <td>67743</td>\n",
              "      <td>0.0</td>\n",
              "      <td>2013-01-28</td>\n",
              "      <td>Unicef</td>\n",
              "      <td>263</td>\n",
              "      <td>UNICEF</td>\n",
              "      <td>38.486161</td>\n",
              "      <td>-11.155298</td>\n",
              "      <td>Zahanati Ya Nanyumbu</td>\n",
              "      <td>0</td>\n",
              "      <td>Ruvuma / Southern Coast</td>\n",
              "      <td>Mahakamani</td>\n",
              "      <td>Mtwara</td>\n",
              "      <td>90</td>\n",
              "      <td>63</td>\n",
              "      <td>Nanyumbu</td>\n",
              "      <td>Nanyumbu</td>\n",
              "      <td>58</td>\n",
              "      <td>True</td>\n",
              "      <td>GeoData Consultants Ltd</td>\n",
              "      <td>VWC</td>\n",
              "      <td>NaN</td>\n",
              "      <td>True</td>\n",
              "      <td>1986</td>\n",
              "      <td>submersible</td>\n",
              "      <td>submersible</td>\n",
              "      <td>submersible</td>\n",
              "      <td>vwc</td>\n",
              "      <td>user-group</td>\n",
              "      <td>never pay</td>\n",
              "      <td>never pay</td>\n",
              "      <td>soft</td>\n",
              "      <td>good</td>\n",
              "      <td>dry</td>\n",
              "      <td>dry</td>\n",
              "      <td>machine dbh</td>\n",
              "      <td>borehole</td>\n",
              "      <td>groundwater</td>\n",
              "      <td>communal standpipe multiple</td>\n",
              "      <td>communal standpipe</td>\n",
              "      <td>non functional</td>\n",
              "    </tr>\n",
              "    <tr>\n",
              "      <th>4</th>\n",
              "      <td>19728</td>\n",
              "      <td>0.0</td>\n",
              "      <td>2011-07-13</td>\n",
              "      <td>Action In A</td>\n",
              "      <td>0</td>\n",
              "      <td>Artisan</td>\n",
              "      <td>31.130847</td>\n",
              "      <td>-1.825359</td>\n",
              "      <td>Shuleni</td>\n",
              "      <td>0</td>\n",
              "      <td>Lake Victoria</td>\n",
              "      <td>Kyanyamisa</td>\n",
              "      <td>Kagera</td>\n",
              "      <td>18</td>\n",
              "      <td>1</td>\n",
              "      <td>Karagwe</td>\n",
              "      <td>Nyakasimbi</td>\n",
              "      <td>0</td>\n",
              "      <td>True</td>\n",
              "      <td>GeoData Consultants Ltd</td>\n",
              "      <td>NaN</td>\n",
              "      <td>NaN</td>\n",
              "      <td>True</td>\n",
              "      <td>0</td>\n",
              "      <td>gravity</td>\n",
              "      <td>gravity</td>\n",
              "      <td>gravity</td>\n",
              "      <td>other</td>\n",
              "      <td>other</td>\n",
              "      <td>never pay</td>\n",
              "      <td>never pay</td>\n",
              "      <td>soft</td>\n",
              "      <td>good</td>\n",
              "      <td>seasonal</td>\n",
              "      <td>seasonal</td>\n",
              "      <td>rainwater harvesting</td>\n",
              "      <td>rainwater harvesting</td>\n",
              "      <td>surface</td>\n",
              "      <td>communal standpipe</td>\n",
              "      <td>communal standpipe</td>\n",
              "      <td>functional</td>\n",
              "    </tr>\n",
              "  </tbody>\n",
              "</table>\n",
              "</div>"
            ],
            "text/plain": [
              "      id  amount_tsh  ... waterpoint_type_group    status_group\n",
              "0  69572      6000.0  ...    communal standpipe      functional\n",
              "1   8776         0.0  ...    communal standpipe      functional\n",
              "2  34310        25.0  ...    communal standpipe      functional\n",
              "3  67743         0.0  ...    communal standpipe  non functional\n",
              "4  19728         0.0  ...    communal standpipe      functional\n",
              "\n",
              "[5 rows x 41 columns]"
            ]
          },
          "metadata": {},
          "execution_count": 234
        }
      ]
    },
    {
      "cell_type": "code",
      "metadata": {
        "colab": {
          "base_uri": "https://localhost:8080/",
          "height": 294
        },
        "id": "zK3wojXqju5A",
        "outputId": "a376276d-b0ad-4b02-ff75-bf3cf91e5085"
      },
      "source": [
        "df.describe()"
      ],
      "execution_count": 235,
      "outputs": [
        {
          "output_type": "execute_result",
          "data": {
            "text/html": [
              "<div>\n",
              "<style scoped>\n",
              "    .dataframe tbody tr th:only-of-type {\n",
              "        vertical-align: middle;\n",
              "    }\n",
              "\n",
              "    .dataframe tbody tr th {\n",
              "        vertical-align: top;\n",
              "    }\n",
              "\n",
              "    .dataframe thead th {\n",
              "        text-align: right;\n",
              "    }\n",
              "</style>\n",
              "<table border=\"1\" class=\"dataframe\">\n",
              "  <thead>\n",
              "    <tr style=\"text-align: right;\">\n",
              "      <th></th>\n",
              "      <th>id</th>\n",
              "      <th>amount_tsh</th>\n",
              "      <th>gps_height</th>\n",
              "      <th>longitude</th>\n",
              "      <th>latitude</th>\n",
              "      <th>num_private</th>\n",
              "      <th>region_code</th>\n",
              "      <th>district_code</th>\n",
              "      <th>population</th>\n",
              "      <th>construction_year</th>\n",
              "    </tr>\n",
              "  </thead>\n",
              "  <tbody>\n",
              "    <tr>\n",
              "      <th>count</th>\n",
              "      <td>59400.000000</td>\n",
              "      <td>59400.000000</td>\n",
              "      <td>59400.000000</td>\n",
              "      <td>59400.000000</td>\n",
              "      <td>5.940000e+04</td>\n",
              "      <td>59400.000000</td>\n",
              "      <td>59400.000000</td>\n",
              "      <td>59400.000000</td>\n",
              "      <td>59400.000000</td>\n",
              "      <td>59400.000000</td>\n",
              "    </tr>\n",
              "    <tr>\n",
              "      <th>mean</th>\n",
              "      <td>37115.131768</td>\n",
              "      <td>317.650385</td>\n",
              "      <td>668.297239</td>\n",
              "      <td>34.077427</td>\n",
              "      <td>-5.706033e+00</td>\n",
              "      <td>0.474141</td>\n",
              "      <td>15.297003</td>\n",
              "      <td>5.629747</td>\n",
              "      <td>179.909983</td>\n",
              "      <td>1300.652475</td>\n",
              "    </tr>\n",
              "    <tr>\n",
              "      <th>std</th>\n",
              "      <td>21453.128371</td>\n",
              "      <td>2997.574558</td>\n",
              "      <td>693.116350</td>\n",
              "      <td>6.567432</td>\n",
              "      <td>2.946019e+00</td>\n",
              "      <td>12.236230</td>\n",
              "      <td>17.587406</td>\n",
              "      <td>9.633649</td>\n",
              "      <td>471.482176</td>\n",
              "      <td>951.620547</td>\n",
              "    </tr>\n",
              "    <tr>\n",
              "      <th>min</th>\n",
              "      <td>0.000000</td>\n",
              "      <td>0.000000</td>\n",
              "      <td>-90.000000</td>\n",
              "      <td>0.000000</td>\n",
              "      <td>-1.164944e+01</td>\n",
              "      <td>0.000000</td>\n",
              "      <td>1.000000</td>\n",
              "      <td>0.000000</td>\n",
              "      <td>0.000000</td>\n",
              "      <td>0.000000</td>\n",
              "    </tr>\n",
              "    <tr>\n",
              "      <th>25%</th>\n",
              "      <td>18519.750000</td>\n",
              "      <td>0.000000</td>\n",
              "      <td>0.000000</td>\n",
              "      <td>33.090347</td>\n",
              "      <td>-8.540621e+00</td>\n",
              "      <td>0.000000</td>\n",
              "      <td>5.000000</td>\n",
              "      <td>2.000000</td>\n",
              "      <td>0.000000</td>\n",
              "      <td>0.000000</td>\n",
              "    </tr>\n",
              "    <tr>\n",
              "      <th>50%</th>\n",
              "      <td>37061.500000</td>\n",
              "      <td>0.000000</td>\n",
              "      <td>369.000000</td>\n",
              "      <td>34.908743</td>\n",
              "      <td>-5.021597e+00</td>\n",
              "      <td>0.000000</td>\n",
              "      <td>12.000000</td>\n",
              "      <td>3.000000</td>\n",
              "      <td>25.000000</td>\n",
              "      <td>1986.000000</td>\n",
              "    </tr>\n",
              "    <tr>\n",
              "      <th>75%</th>\n",
              "      <td>55656.500000</td>\n",
              "      <td>20.000000</td>\n",
              "      <td>1319.250000</td>\n",
              "      <td>37.178387</td>\n",
              "      <td>-3.326156e+00</td>\n",
              "      <td>0.000000</td>\n",
              "      <td>17.000000</td>\n",
              "      <td>5.000000</td>\n",
              "      <td>215.000000</td>\n",
              "      <td>2004.000000</td>\n",
              "    </tr>\n",
              "    <tr>\n",
              "      <th>max</th>\n",
              "      <td>74247.000000</td>\n",
              "      <td>350000.000000</td>\n",
              "      <td>2770.000000</td>\n",
              "      <td>40.345193</td>\n",
              "      <td>-2.000000e-08</td>\n",
              "      <td>1776.000000</td>\n",
              "      <td>99.000000</td>\n",
              "      <td>80.000000</td>\n",
              "      <td>30500.000000</td>\n",
              "      <td>2013.000000</td>\n",
              "    </tr>\n",
              "  </tbody>\n",
              "</table>\n",
              "</div>"
            ],
            "text/plain": [
              "                 id     amount_tsh  ...    population  construction_year\n",
              "count  59400.000000   59400.000000  ...  59400.000000       59400.000000\n",
              "mean   37115.131768     317.650385  ...    179.909983        1300.652475\n",
              "std    21453.128371    2997.574558  ...    471.482176         951.620547\n",
              "min        0.000000       0.000000  ...      0.000000           0.000000\n",
              "25%    18519.750000       0.000000  ...      0.000000           0.000000\n",
              "50%    37061.500000       0.000000  ...     25.000000        1986.000000\n",
              "75%    55656.500000      20.000000  ...    215.000000        2004.000000\n",
              "max    74247.000000  350000.000000  ...  30500.000000        2013.000000\n",
              "\n",
              "[8 rows x 10 columns]"
            ]
          },
          "metadata": {},
          "execution_count": 235
        }
      ]
    },
    {
      "cell_type": "code",
      "metadata": {
        "colab": {
          "base_uri": "https://localhost:8080/"
        },
        "id": "ceRSaTN62a9Z",
        "outputId": "f096a3a7-3de7-4f68-c55e-9d6cb99a77be"
      },
      "source": [
        "df.info()"
      ],
      "execution_count": 236,
      "outputs": [
        {
          "output_type": "stream",
          "name": "stdout",
          "text": [
            "<class 'pandas.core.frame.DataFrame'>\n",
            "RangeIndex: 59400 entries, 0 to 59399\n",
            "Data columns (total 41 columns):\n",
            " #   Column                 Non-Null Count  Dtype  \n",
            "---  ------                 --------------  -----  \n",
            " 0   id                     59400 non-null  int64  \n",
            " 1   amount_tsh             59400 non-null  float64\n",
            " 2   date_recorded          59400 non-null  object \n",
            " 3   funder                 55765 non-null  object \n",
            " 4   gps_height             59400 non-null  int64  \n",
            " 5   installer              55745 non-null  object \n",
            " 6   longitude              59400 non-null  float64\n",
            " 7   latitude               59400 non-null  float64\n",
            " 8   wpt_name               59400 non-null  object \n",
            " 9   num_private            59400 non-null  int64  \n",
            " 10  basin                  59400 non-null  object \n",
            " 11  subvillage             59029 non-null  object \n",
            " 12  region                 59400 non-null  object \n",
            " 13  region_code            59400 non-null  int64  \n",
            " 14  district_code          59400 non-null  int64  \n",
            " 15  lga                    59400 non-null  object \n",
            " 16  ward                   59400 non-null  object \n",
            " 17  population             59400 non-null  int64  \n",
            " 18  public_meeting         56066 non-null  object \n",
            " 19  recorded_by            59400 non-null  object \n",
            " 20  scheme_management      55523 non-null  object \n",
            " 21  scheme_name            31234 non-null  object \n",
            " 22  permit                 56344 non-null  object \n",
            " 23  construction_year      59400 non-null  int64  \n",
            " 24  extraction_type        59400 non-null  object \n",
            " 25  extraction_type_group  59400 non-null  object \n",
            " 26  extraction_type_class  59400 non-null  object \n",
            " 27  management             59400 non-null  object \n",
            " 28  management_group       59400 non-null  object \n",
            " 29  payment                59400 non-null  object \n",
            " 30  payment_type           59400 non-null  object \n",
            " 31  water_quality          59400 non-null  object \n",
            " 32  quality_group          59400 non-null  object \n",
            " 33  quantity               59400 non-null  object \n",
            " 34  quantity_group         59400 non-null  object \n",
            " 35  source                 59400 non-null  object \n",
            " 36  source_type            59400 non-null  object \n",
            " 37  source_class           59400 non-null  object \n",
            " 38  waterpoint_type        59400 non-null  object \n",
            " 39  waterpoint_type_group  59400 non-null  object \n",
            " 40  status_group           59400 non-null  object \n",
            "dtypes: float64(3), int64(7), object(31)\n",
            "memory usage: 18.6+ MB\n"
          ]
        }
      ]
    },
    {
      "cell_type": "code",
      "metadata": {
        "id": "iUo9kCMV2jLm",
        "colab": {
          "base_uri": "https://localhost:8080/"
        },
        "outputId": "0e869110-3cad-4367-891d-c8aeb8337d94"
      },
      "source": [
        "df.nunique()"
      ],
      "execution_count": 237,
      "outputs": [
        {
          "output_type": "execute_result",
          "data": {
            "text/plain": [
              "id                       59400\n",
              "amount_tsh                  98\n",
              "date_recorded              356\n",
              "funder                    1897\n",
              "gps_height                2428\n",
              "installer                 2145\n",
              "longitude                57516\n",
              "latitude                 57517\n",
              "wpt_name                 37400\n",
              "num_private                 65\n",
              "basin                        9\n",
              "subvillage               19287\n",
              "region                      21\n",
              "region_code                 27\n",
              "district_code               20\n",
              "lga                        125\n",
              "ward                      2092\n",
              "population                1049\n",
              "public_meeting               2\n",
              "recorded_by                  1\n",
              "scheme_management           12\n",
              "scheme_name               2696\n",
              "permit                       2\n",
              "construction_year           55\n",
              "extraction_type             18\n",
              "extraction_type_group       13\n",
              "extraction_type_class        7\n",
              "management                  12\n",
              "management_group             5\n",
              "payment                      7\n",
              "payment_type                 7\n",
              "water_quality                8\n",
              "quality_group                6\n",
              "quantity                     5\n",
              "quantity_group               5\n",
              "source                      10\n",
              "source_type                  7\n",
              "source_class                 3\n",
              "waterpoint_type              7\n",
              "waterpoint_type_group        6\n",
              "status_group                 3\n",
              "dtype: int64"
            ]
          },
          "metadata": {},
          "execution_count": 237
        }
      ]
    },
    {
      "cell_type": "code",
      "metadata": {
        "colab": {
          "base_uri": "https://localhost:8080/",
          "height": 602
        },
        "id": "o-fXA9GcUBGH",
        "outputId": "23e69dca-d4bd-4299-de71-ba19764f711e"
      },
      "source": [
        "plt.subplots(figsize=(10,8))\n",
        "sns.heatmap(df.isnull(), cbar = False).set_title(\"Missing values\")"
      ],
      "execution_count": 238,
      "outputs": [
        {
          "output_type": "execute_result",
          "data": {
            "text/plain": [
              "Text(0.5, 1.0, 'Missing values')"
            ]
          },
          "metadata": {},
          "execution_count": 238
        },
        {
          "output_type": "display_data",
          "data": {
            "image/png": "[encoded data removed]",
            "text/plain": [
              "<Figure size 720x576 with 1 Axes>"
            ]
          },
          "metadata": {}
        }
      ]
    },
    {
      "cell_type": "code",
      "metadata": {
        "id": "x4C09ELVUYjJ",
        "colab": {
          "base_uri": "https://localhost:8080/"
        },
        "outputId": "b8a81041-012e-4606-a910-ac242eb47f3b"
      },
      "source": [
        "df.isnull().sum()"
      ],
      "execution_count": 239,
      "outputs": [
        {
          "output_type": "execute_result",
          "data": {
            "text/plain": [
              "id                           0\n",
              "amount_tsh                   0\n",
              "date_recorded                0\n",
              "funder                    3635\n",
              "gps_height                   0\n",
              "installer                 3655\n",
              "longitude                    0\n",
              "latitude                     0\n",
              "wpt_name                     0\n",
              "num_private                  0\n",
              "basin                        0\n",
              "subvillage                 371\n",
              "region                       0\n",
              "region_code                  0\n",
              "district_code                0\n",
              "lga                          0\n",
              "ward                         0\n",
              "population                   0\n",
              "public_meeting            3334\n",
              "recorded_by                  0\n",
              "scheme_management         3877\n",
              "scheme_name              28166\n",
              "permit                    3056\n",
              "construction_year            0\n",
              "extraction_type              0\n",
              "extraction_type_group        0\n",
              "extraction_type_class        0\n",
              "management                   0\n",
              "management_group             0\n",
              "payment                      0\n",
              "payment_type                 0\n",
              "water_quality                0\n",
              "quality_group                0\n",
              "quantity                     0\n",
              "quantity_group               0\n",
              "source                       0\n",
              "source_type                  0\n",
              "source_class                 0\n",
              "waterpoint_type              0\n",
              "waterpoint_type_group        0\n",
              "status_group                 0\n",
              "dtype: int64"
            ]
          },
          "metadata": {},
          "execution_count": 239
        }
      ]
    },
    {
      "cell_type": "code",
      "metadata": {
        "colab": {
          "base_uri": "https://localhost:8080/"
        },
        "id": "ldH_Mw9wNKSW",
        "outputId": "04ef9901-0d85-49db-deef-2b7b3a136c3d"
      },
      "source": [
        "print(df[[\"amount_tsh\", 'status_group']].groupby([\"status_group\"], as_index=False).mean())"
      ],
      "execution_count": 240,
      "outputs": [
        {
          "output_type": "stream",
          "name": "stdout",
          "text": [
            "              status_group  amount_tsh\n",
            "0               functional  461.798235\n",
            "1  functional needs repair  267.071577\n",
            "2           non functional  123.481230\n"
          ]
        }
      ]
    },
    {
      "cell_type": "code",
      "metadata": {
        "id": "c237aUE9O07f"
      },
      "source": [
        "temp1 = df[[\"basin\", 'status_group']].loc[df.status_group == \"functional\"].groupby(\"basin\", as_index=False).count()\n",
        "temp2 = df[[\"basin\", 'status_group']].loc[df.status_group == \"non functional\"].groupby(\"basin\", as_index=False).count()\n",
        "temp3 = df[[\"basin\", 'status_group']].loc[df.status_group == \"functional needs repair\"].groupby(\"basin\", as_index=False).count()\n",
        "temp1[\"a\"] = temp2[\"status_group\"]\n",
        "temp1[\"b\"] = temp2[\"status_group\"]\n",
        "temp1.columns = [\"basin_type\", \"functional\", \"non functional\", \"functional needs repair\"]"
      ],
      "execution_count": 241,
      "outputs": []
    },
    {
      "cell_type": "code",
      "metadata": {
        "colab": {
          "base_uri": "https://localhost:8080/",
          "height": 672
        },
        "id": "cyl269gAPbET",
        "outputId": "76599268-ec54-4422-f8a6-fb256df46094"
      },
      "source": [
        "plt.figure(figsize=(15,10))\n",
        "sns.countplot(\"basin\", hue=\"status_group\", data=df)"
      ],
      "execution_count": 242,
      "outputs": [
        {
          "output_type": "stream",
          "name": "stderr",
          "text": [
            "/usr/local/lib/python3.7/dist-packages/seaborn/_decorators.py:43: FutureWarning: Pass the following variable as a keyword arg: x. From version 0.12, the only valid positional argument will be `data`, and passing other arguments without an explicit keyword will result in an error or misinterpretation.\n",
            "  FutureWarning\n"
          ]
        },
        {
          "output_type": "execute_result",
          "data": {
            "text/plain": [
              "<matplotlib.axes._subplots.AxesSubplot at 0x7fb744a65450>"
            ]
          },
          "metadata": {},
          "execution_count": 242
        },
        {
          "output_type": "display_data",
          "data": {
            "image/png": "[encoded data removed]",
            "text/plain": [
              "<Figure size 1080x720 with 1 Axes>"
            ]
          },
          "metadata": {}
        }
      ]
    },
    {
      "cell_type": "code",
      "metadata": {
        "colab": {
          "base_uri": "https://localhost:8080/",
          "height": 672
        },
        "id": "jNcMgdE0bwR6",
        "outputId": "24c0476c-65d8-4408-ee5b-1617e40f0c8f"
      },
      "source": [
        "plt.figure(figsize=(15,10))\n",
        "sns.countplot(\"region\", hue=\"status_group\", data=df)"
      ],
      "execution_count": 243,
      "outputs": [
        {
          "output_type": "stream",
          "name": "stderr",
          "text": [
            "/usr/local/lib/python3.7/dist-packages/seaborn/_decorators.py:43: FutureWarning: Pass the following variable as a keyword arg: x. From version 0.12, the only valid positional argument will be `data`, and passing other arguments without an explicit keyword will result in an error or misinterpretation.\n",
            "  FutureWarning\n"
          ]
        },
        {
          "output_type": "execute_result",
          "data": {
            "text/plain": [
              "<matplotlib.axes._subplots.AxesSubplot at 0x7fb7449d9290>"
            ]
          },
          "metadata": {},
          "execution_count": 243
        },
        {
          "output_type": "display_data",
          "data": {
            "image/png": "[encoded data removed]",
            "text/plain": [
              "<Figure size 1080x720 with 1 Axes>"
            ]
          },
          "metadata": {}
        }
      ]
    },
    {
      "cell_type": "code",
      "metadata": {
        "colab": {
          "base_uri": "https://localhost:8080/",
          "height": 672
        },
        "id": "kpV4vQKlfcQN",
        "outputId": "bb7cad0a-c883-428d-822d-d62c2a582bef"
      },
      "source": [
        "plt.figure(figsize=(15,10))\n",
        "sns.countplot(\"district_code\", hue=\"status_group\", data=df)"
      ],
      "execution_count": 244,
      "outputs": [
        {
          "output_type": "stream",
          "name": "stderr",
          "text": [
            "/usr/local/lib/python3.7/dist-packages/seaborn/_decorators.py:43: FutureWarning: Pass the following variable as a keyword arg: x. From version 0.12, the only valid positional argument will be `data`, and passing other arguments without an explicit keyword will result in an error or misinterpretation.\n",
            "  FutureWarning\n"
          ]
        },
        {
          "output_type": "execute_result",
          "data": {
            "text/plain": [
              "<matplotlib.axes._subplots.AxesSubplot at 0x7fb744c18890>"
            ]
          },
          "metadata": {},
          "execution_count": 244
        },
        {
          "output_type": "display_data",
          "data": {
            "image/png": "[encoded data removed]",
            "text/plain": [
              "<Figure size 1080x720 with 1 Axes>"
            ]
          },
          "metadata": {}
        }
      ]
    },
    {
      "cell_type": "code",
      "metadata": {
        "colab": {
          "base_uri": "https://localhost:8080/"
        },
        "id": "gaf_C1IIii7C",
        "outputId": "b2c6c816-ba36-4445-e6ec-7f4a5a75444a"
      },
      "source": [
        "print(df[[\"population\", 'status_group']].groupby([\"status_group\"], as_index=False).mean())"
      ],
      "execution_count": 245,
      "outputs": [
        {
          "output_type": "stream",
          "name": "stdout",
          "text": [
            "              status_group  population\n",
            "0               functional  187.553303\n",
            "1  functional needs repair  175.102154\n",
            "2           non functional  170.016430\n"
          ]
        }
      ]
    },
    {
      "cell_type": "code",
      "metadata": {
        "colab": {
          "base_uri": "https://localhost:8080/",
          "height": 366
        },
        "id": "EyckXDpvup7u",
        "outputId": "6ea74b1c-9d44-4e43-d91d-67eaa16d4d2b"
      },
      "source": [
        "df.boxplot(by ='status_group', column =['gps_height'], grid = False)"
      ],
      "execution_count": 285,
      "outputs": [
        {
          "output_type": "stream",
          "name": "stderr",
          "text": [
            "/usr/local/lib/python3.7/dist-packages/numpy/core/_asarray.py:83: VisibleDeprecationWarning: Creating an ndarray from ragged nested sequences (which is a list-or-tuple of lists-or-tuples-or ndarrays with different lengths or shapes) is deprecated. If you meant to do this, you must specify 'dtype=object' when creating the ndarray\n",
            "  return array(a, dtype, copy=False, order=order)\n"
          ]
        },
        {
          "output_type": "execute_result",
          "data": {
            "text/plain": [
              "<matplotlib.axes._subplots.AxesSubplot at 0x7fb74493f190>"
            ]
          },
          "metadata": {},
          "execution_count": 285
        },
        {
          "output_type": "display_data",
          "data": {
            "image/png": "[encoded data removed]",
            "text/plain": [
              "<Figure size 432x288 with 1 Axes>"
            ]
          },
          "metadata": {}
        }
      ]
    },
    {
      "cell_type": "code",
      "metadata": {
        "colab": {
          "base_uri": "https://localhost:8080/",
          "height": 366
        },
        "id": "MzojQ9uVu7K_",
        "outputId": "31daf789-a60b-4140-df22-363f1849fef6"
      },
      "source": [
        "df.boxplot(by ='status_group', column =['longitude'], grid = False)"
      ],
      "execution_count": 286,
      "outputs": [
        {
          "output_type": "stream",
          "name": "stderr",
          "text": [
            "/usr/local/lib/python3.7/dist-packages/numpy/core/_asarray.py:83: VisibleDeprecationWarning: Creating an ndarray from ragged nested sequences (which is a list-or-tuple of lists-or-tuples-or ndarrays with different lengths or shapes) is deprecated. If you meant to do this, you must specify 'dtype=object' when creating the ndarray\n",
            "  return array(a, dtype, copy=False, order=order)\n"
          ]
        },
        {
          "output_type": "execute_result",
          "data": {
            "text/plain": [
              "<matplotlib.axes._subplots.AxesSubplot at 0x7fb7465e7710>"
            ]
          },
          "metadata": {},
          "execution_count": 286
        },
        {
          "output_type": "display_data",
          "data": {
            "image/png": "[encoded data removed]",
            "text/plain": [
              "<Figure size 432x288 with 1 Axes>"
            ]
          },
          "metadata": {}
        }
      ]
    },
    {
      "cell_type": "code",
      "metadata": {
        "colab": {
          "base_uri": "https://localhost:8080/",
          "height": 366
        },
        "id": "DaE0RB8RvJAU",
        "outputId": "99a13fbe-47a6-4e56-ae8b-f81f35f0b067"
      },
      "source": [
        "df.boxplot(by ='status_group', column =['latitude'], grid = False)"
      ],
      "execution_count": 287,
      "outputs": [
        {
          "output_type": "stream",
          "name": "stderr",
          "text": [
            "/usr/local/lib/python3.7/dist-packages/numpy/core/_asarray.py:83: VisibleDeprecationWarning: Creating an ndarray from ragged nested sequences (which is a list-or-tuple of lists-or-tuples-or ndarrays with different lengths or shapes) is deprecated. If you meant to do this, you must specify 'dtype=object' when creating the ndarray\n",
            "  return array(a, dtype, copy=False, order=order)\n"
          ]
        },
        {
          "output_type": "execute_result",
          "data": {
            "text/plain": [
              "<matplotlib.axes._subplots.AxesSubplot at 0x7fb7465f0590>"
            ]
          },
          "metadata": {},
          "execution_count": 287
        },
        {
          "output_type": "display_data",
          "data": {
            "image/png": "[encoded data removed]",
            "text/plain": [
              "<Figure size 432x288 with 1 Axes>"
            ]
          },
          "metadata": {}
        }
      ]
    },
    {
      "cell_type": "code",
      "metadata": {
        "colab": {
          "base_uri": "https://localhost:8080/",
          "height": 366
        },
        "id": "PAOYEVJc3pz0",
        "outputId": "3ee2fc24-ba81-4da9-a5d7-c434247749b4"
      },
      "source": [
        "df.boxplot(by ='status_group', column =['population'], grid = False)"
      ],
      "execution_count": 288,
      "outputs": [
        {
          "output_type": "stream",
          "name": "stderr",
          "text": [
            "/usr/local/lib/python3.7/dist-packages/numpy/core/_asarray.py:83: VisibleDeprecationWarning: Creating an ndarray from ragged nested sequences (which is a list-or-tuple of lists-or-tuples-or ndarrays with different lengths or shapes) is deprecated. If you meant to do this, you must specify 'dtype=object' when creating the ndarray\n",
            "  return array(a, dtype, copy=False, order=order)\n"
          ]
        },
        {
          "output_type": "execute_result",
          "data": {
            "text/plain": [
              "<matplotlib.axes._subplots.AxesSubplot at 0x7fb7465eed90>"
            ]
          },
          "metadata": {},
          "execution_count": 288
        },
        {
          "output_type": "display_data",
          "data": {
            "image/png": "[encoded data removed]",
            "text/plain": [
              "<Figure size 432x288 with 1 Axes>"
            ]
          },
          "metadata": {}
        }
      ]
    },
    {
      "cell_type": "code",
      "metadata": {
        "colab": {
          "base_uri": "https://localhost:8080/"
        },
        "id": "TMFe4fYxgsZ9",
        "outputId": "b86d7353-5e00-40e5-bcd4-7031584f486f"
      },
      "source": [
        "df[\"subvillage\"].value_counts(dropna=True).value_counts()\n",
        "# here we can see most of the subvillages have only one water pump so taking sub\n",
        "# village to decide is not a good idea."
      ],
      "execution_count": 246,
      "outputs": [
        {
          "output_type": "execute_result",
          "data": {
            "text/plain": [
              "1      9424\n",
              "2      3839\n",
              "3      2093\n",
              "4      1213\n",
              "5       747\n",
              "       ... \n",
              "102       1\n",
              "86        1\n",
              "373       1\n",
              "69        1\n",
              "55        1\n",
              "Name: subvillage, Length: 92, dtype: int64"
            ]
          },
          "metadata": {},
          "execution_count": 246
        }
      ]
    },
    {
      "cell_type": "code",
      "metadata": {
        "colab": {
          "base_uri": "https://localhost:8080/"
        },
        "id": "dETPMoX3JUKx",
        "outputId": "05546f4b-2358-4f32-936b-4e26d277b2b8"
      },
      "source": [
        "df.water_quality.value_counts()"
      ],
      "execution_count": 247,
      "outputs": [
        {
          "output_type": "execute_result",
          "data": {
            "text/plain": [
              "soft                  50818\n",
              "salty                  4856\n",
              "unknown                1876\n",
              "milky                   804\n",
              "coloured                490\n",
              "salty abandoned         339\n",
              "fluoride                200\n",
              "fluoride abandoned       17\n",
              "Name: water_quality, dtype: int64"
            ]
          },
          "metadata": {},
          "execution_count": 247
        }
      ]
    },
    {
      "cell_type": "code",
      "metadata": {
        "colab": {
          "base_uri": "https://localhost:8080/"
        },
        "id": "nJBk8SmzJ_DH",
        "outputId": "4e6b1615-0ddc-4b54-caf2-d17aa52f29fe"
      },
      "source": [
        "df.quality_group.value_counts()"
      ],
      "execution_count": 248,
      "outputs": [
        {
          "output_type": "execute_result",
          "data": {
            "text/plain": [
              "good        50818\n",
              "salty        5195\n",
              "unknown      1876\n",
              "milky         804\n",
              "colored       490\n",
              "fluoride      217\n",
              "Name: quality_group, dtype: int64"
            ]
          },
          "metadata": {},
          "execution_count": 248
        }
      ]
    },
    {
      "cell_type": "code",
      "metadata": {
        "colab": {
          "base_uri": "https://localhost:8080/"
        },
        "id": "iLs6KjA6VBhp",
        "outputId": "71a6aa7a-24a4-443a-918a-6f7d899193d3"
      },
      "source": [
        "df.extraction_type_group.value_counts()"
      ],
      "execution_count": 249,
      "outputs": [
        {
          "output_type": "execute_result",
          "data": {
            "text/plain": [
              "gravity            26780\n",
              "nira/tanira         8154\n",
              "other               6430\n",
              "submersible         6179\n",
              "swn 80              3670\n",
              "mono                2865\n",
              "india mark ii       2400\n",
              "afridev             1770\n",
              "rope pump            451\n",
              "other handpump       364\n",
              "other motorpump      122\n",
              "wind-powered         117\n",
              "india mark iii        98\n",
              "Name: extraction_type_group, dtype: int64"
            ]
          },
          "metadata": {},
          "execution_count": 249
        }
      ]
    },
    {
      "cell_type": "code",
      "metadata": {
        "colab": {
          "base_uri": "https://localhost:8080/"
        },
        "id": "L6ylrxdSVOYF",
        "outputId": "34024159-af29-40f1-e8f5-a9311b197112"
      },
      "source": [
        "df.extraction_type.value_counts()"
      ],
      "execution_count": 250,
      "outputs": [
        {
          "output_type": "execute_result",
          "data": {
            "text/plain": [
              "gravity                      26780\n",
              "nira/tanira                   8154\n",
              "other                         6430\n",
              "submersible                   4764\n",
              "swn 80                        3670\n",
              "mono                          2865\n",
              "india mark ii                 2400\n",
              "afridev                       1770\n",
              "ksb                           1415\n",
              "other - rope pump              451\n",
              "other - swn 81                 229\n",
              "windmill                       117\n",
              "india mark iii                  98\n",
              "cemo                            90\n",
              "other - play pump               85\n",
              "walimi                          48\n",
              "climax                          32\n",
              "other - mkulima/shinyanga        2\n",
              "Name: extraction_type, dtype: int64"
            ]
          },
          "metadata": {},
          "execution_count": 250
        }
      ]
    },
    {
      "cell_type": "code",
      "metadata": {
        "colab": {
          "base_uri": "https://localhost:8080/"
        },
        "id": "-UX27ljSntB6",
        "outputId": "ba6367b6-63a5-43b6-e315-225cede58117"
      },
      "source": [
        "print(df[\"installer\"].value_counts(dropna=True))"
      ],
      "execution_count": 251,
      "outputs": [
        {
          "output_type": "stream",
          "name": "stdout",
          "text": [
            "DWE                      17402\n",
            "Government                1825\n",
            "RWE                       1206\n",
            "Commu                     1060\n",
            "DANIDA                    1050\n",
            "                         ...  \n",
            "Quick win/halmashauri        1\n",
            "Losakia water supply         1\n",
            "Joseph nkunda                1\n",
            "WEEPERS                      1\n",
            "world banks                  1\n",
            "Name: installer, Length: 2145, dtype: int64\n"
          ]
        }
      ]
    },
    {
      "cell_type": "code",
      "metadata": {
        "colab": {
          "base_uri": "https://localhost:8080/"
        },
        "id": "QF14x6momfyq",
        "outputId": "63f6ee72-4bdf-4969-d533-271f216a7826"
      },
      "source": [
        "df[\"installer\"].value_counts(dropna=True).value_counts().sort_index()"
      ],
      "execution_count": 252,
      "outputs": [
        {
          "output_type": "execute_result",
          "data": {
            "text/plain": [
              "1        1098\n",
              "2         210\n",
              "3         135\n",
              "4          83\n",
              "5          68\n",
              "         ... \n",
              "1050        1\n",
              "1060        1\n",
              "1206        1\n",
              "1825        1\n",
              "17402       1\n",
              "Name: installer, Length: 153, dtype: int64"
            ]
          },
          "metadata": {},
          "execution_count": 252
        }
      ]
    },
    {
      "cell_type": "code",
      "metadata": {
        "colab": {
          "base_uri": "https://localhost:8080/"
        },
        "id": "WHsKTX66mxzS",
        "outputId": "192b3c05-e19c-4340-9361-5e18e31ade05"
      },
      "source": [
        "# not effective to take as a feature, too many different values\n",
        "df[\"funder\"].value_counts(dropna=True).value_counts().sort_index()"
      ],
      "execution_count": 253,
      "outputs": [
        {
          "output_type": "execute_result",
          "data": {
            "text/plain": [
              "1       974\n",
              "2       184\n",
              "3       113\n",
              "4        54\n",
              "5        49\n",
              "       ... \n",
              "1349      1\n",
              "1374      1\n",
              "2202      1\n",
              "3114      1\n",
              "9084      1\n",
              "Name: funder, Length: 159, dtype: int64"
            ]
          },
          "metadata": {},
          "execution_count": 253
        }
      ]
    },
    {
      "cell_type": "code",
      "metadata": {
        "colab": {
          "base_uri": "https://localhost:8080/"
        },
        "id": "EWUDmCzJhGx4",
        "outputId": "5f44db63-4df8-46d3-b242-720f539865c7"
      },
      "source": [
        "print(df[\"gps_height\"].max())\n",
        "print(df[\"gps_height\"].min()) "
      ],
      "execution_count": 254,
      "outputs": [
        {
          "output_type": "stream",
          "name": "stdout",
          "text": [
            "2770\n",
            "-90\n"
          ]
        }
      ]
    },
    {
      "cell_type": "code",
      "metadata": {
        "colab": {
          "base_uri": "https://localhost:8080/",
          "height": 778
        },
        "id": "8ONnkdlHkXE3",
        "outputId": "13d7a1ef-a6f6-425d-e83b-99bb526152cb"
      },
      "source": [
        "(sns\n",
        "  .FacetGrid(df, \n",
        "             hue='status_group',size=10)\n",
        "  .map(sns.kdeplot, 'gps_height', shade=True)\n",
        " .add_legend())"
      ],
      "execution_count": 255,
      "outputs": [
        {
          "output_type": "stream",
          "name": "stderr",
          "text": [
            "/usr/local/lib/python3.7/dist-packages/seaborn/axisgrid.py:316: UserWarning: The `size` parameter has been renamed to `height`; please update your code.\n",
            "  warnings.warn(msg, UserWarning)\n"
          ]
        },
        {
          "output_type": "execute_result",
          "data": {
            "text/plain": [
              "<seaborn.axisgrid.FacetGrid at 0x7fb7454462d0>"
            ]
          },
          "metadata": {},
          "execution_count": 255
        },
        {
          "output_type": "display_data",
          "data": {
            "image/png": "[encoded data removed]",
            "text/plain": [
              "<Figure size 856.875x720 with 1 Axes>"
            ]
          },
          "metadata": {}
        }
      ]
    },
    {
      "cell_type": "code",
      "metadata": {
        "colab": {
          "base_uri": "https://localhost:8080/",
          "height": 672
        },
        "id": "JqDqdMql-SBY",
        "outputId": "25a7240d-353a-40fb-b614-3707342bc904"
      },
      "source": [
        "temp = df.copy()\n",
        "temp[\"height_grp\"] = pd.cut(df[\"gps_height\"], 20)\n",
        "\n",
        "plt.figure(figsize=(15,10))\n",
        "sns.countplot(\"height_grp\", hue=\"status_group\", data=temp)"
      ],
      "execution_count": 256,
      "outputs": [
        {
          "output_type": "stream",
          "name": "stderr",
          "text": [
            "/usr/local/lib/python3.7/dist-packages/seaborn/_decorators.py:43: FutureWarning: Pass the following variable as a keyword arg: x. From version 0.12, the only valid positional argument will be `data`, and passing other arguments without an explicit keyword will result in an error or misinterpretation.\n",
            "  FutureWarning\n"
          ]
        },
        {
          "output_type": "execute_result",
          "data": {
            "text/plain": [
              "<matplotlib.axes._subplots.AxesSubplot at 0x7fb74af04b50>"
            ]
          },
          "metadata": {},
          "execution_count": 256
        },
        {
          "output_type": "display_data",
          "data": {
            "image/png": "[encoded data removed]",
            "text/plain": [
              "<Figure size 1080x720 with 1 Axes>"
            ]
          },
          "metadata": {}
        }
      ]
    },
    {
      "cell_type": "code",
      "metadata": {
        "colab": {
          "base_uri": "https://localhost:8080/",
          "height": 618
        },
        "id": "Nwp-_S38TOnY",
        "outputId": "9356db22-274e-4dd0-87ff-05c87c13e82c"
      },
      "source": [
        "plt.figure(figsize=(15, 10))\n",
        "sns.countplot(data=df,x='public_meeting',hue='status_group')"
      ],
      "execution_count": 257,
      "outputs": [
        {
          "output_type": "execute_result",
          "data": {
            "text/plain": [
              "<matplotlib.axes._subplots.AxesSubplot at 0x7fb7447f3fd0>"
            ]
          },
          "metadata": {},
          "execution_count": 257
        },
        {
          "output_type": "display_data",
          "data": {
            "image/png": "[encoded data removed]",
            "text/plain": [
              "<Figure size 1080x720 with 1 Axes>"
            ]
          },
          "metadata": {}
        }
      ]
    },
    {
      "cell_type": "code",
      "metadata": {
        "id": "a9ln_Mn7UdZf"
      },
      "source": [
        "def plot_geodata(dataset: pd.DataFrame): \n",
        "    gdf = geopandas.GeoDataFrame(data.copy(), \n",
        "                                 geometry=geopandas.points_from_xy(dataset.longitude, dataset.latitude))\n",
        "    world = geopandas.read_file(geopandas.datasets.get_path('naturalearth_lowres'))\n",
        "    ax = world[world.continent == 'Africa'].plot(color='white', edgecolor='black')\n",
        "\n",
        "    gdf.plot(ax=ax, color='red',  figsize=(64, 64))\n",
        "\n",
        "    plt.show()"
      ],
      "execution_count": 258,
      "outputs": []
    },
    {
      "cell_type": "code",
      "metadata": {
        "colab": {
          "base_uri": "https://localhost:8080/",
          "height": 263
        },
        "id": "n447kdbHUgFi",
        "outputId": "a7232537-5928-4f60-a80d-1e48d6328058"
      },
      "source": [
        "dataset = data.drop([\"id\"], axis=1)\n",
        "plot_geodata(dataset)"
      ],
      "execution_count": 259,
      "outputs": [
        {
          "output_type": "display_data",
          "data": {
            "image/png": "[encoded data removed]",
            "text/plain": [
              "<Figure size 432x288 with 1 Axes>"
            ]
          },
          "metadata": {}
        }
      ]
    },
    {
      "cell_type": "code",
      "metadata": {
        "colab": {
          "base_uri": "https://localhost:8080/",
          "height": 405
        },
        "id": "r12gqUFh6_dC",
        "outputId": "9b12c4e3-3cdc-4443-bb09-97117309cbc2"
      },
      "source": [
        "# location at longitude == 0 wrong including lat and gps heihgts\n",
        "data.loc[df.longitude == 0].head()"
      ],
      "execution_count": 302,
      "outputs": [
        {
          "output_type": "execute_result",
          "data": {
            "text/html": [
              "<div>\n",
              "<style scoped>\n",
              "    .dataframe tbody tr th:only-of-type {\n",
              "        vertical-align: middle;\n",
              "    }\n",
              "\n",
              "    .dataframe tbody tr th {\n",
              "        vertical-align: top;\n",
              "    }\n",
              "\n",
              "    .dataframe thead th {\n",
              "        text-align: right;\n",
              "    }\n",
              "</style>\n",
              "<table border=\"1\" class=\"dataframe\">\n",
              "  <thead>\n",
              "    <tr style=\"text-align: right;\">\n",
              "      <th></th>\n",
              "      <th>id</th>\n",
              "      <th>amount_tsh</th>\n",
              "      <th>date_recorded</th>\n",
              "      <th>funder</th>\n",
              "      <th>gps_height</th>\n",
              "      <th>installer</th>\n",
              "      <th>longitude</th>\n",
              "      <th>latitude</th>\n",
              "      <th>wpt_name</th>\n",
              "      <th>num_private</th>\n",
              "      <th>basin</th>\n",
              "      <th>subvillage</th>\n",
              "      <th>region</th>\n",
              "      <th>region_code</th>\n",
              "      <th>district_code</th>\n",
              "      <th>lga</th>\n",
              "      <th>ward</th>\n",
              "      <th>population</th>\n",
              "      <th>public_meeting</th>\n",
              "      <th>recorded_by</th>\n",
              "      <th>scheme_management</th>\n",
              "      <th>scheme_name</th>\n",
              "      <th>permit</th>\n",
              "      <th>construction_year</th>\n",
              "      <th>extraction_type</th>\n",
              "      <th>extraction_type_group</th>\n",
              "      <th>extraction_type_class</th>\n",
              "      <th>management</th>\n",
              "      <th>management_group</th>\n",
              "      <th>payment</th>\n",
              "      <th>payment_type</th>\n",
              "      <th>water_quality</th>\n",
              "      <th>quality_group</th>\n",
              "      <th>quantity</th>\n",
              "      <th>quantity_group</th>\n",
              "      <th>source</th>\n",
              "      <th>source_type</th>\n",
              "      <th>source_class</th>\n",
              "      <th>waterpoint_type</th>\n",
              "      <th>waterpoint_type_group</th>\n",
              "      <th>status_group</th>\n",
              "    </tr>\n",
              "  </thead>\n",
              "  <tbody>\n",
              "    <tr>\n",
              "      <th>21</th>\n",
              "      <td>6091</td>\n",
              "      <td>0.0</td>\n",
              "      <td>2013-02-10</td>\n",
              "      <td>Dwsp</td>\n",
              "      <td>0</td>\n",
              "      <td>DWE</td>\n",
              "      <td>0.0</td>\n",
              "      <td>-2.000000e-08</td>\n",
              "      <td>Muungano</td>\n",
              "      <td>0</td>\n",
              "      <td>Lake Victoria</td>\n",
              "      <td>Ibabachegu</td>\n",
              "      <td>Shinyanga</td>\n",
              "      <td>17</td>\n",
              "      <td>1</td>\n",
              "      <td>Bariadi</td>\n",
              "      <td>Ikungulyabashashi</td>\n",
              "      <td>0</td>\n",
              "      <td>NaN</td>\n",
              "      <td>GeoData Consultants Ltd</td>\n",
              "      <td>WUG</td>\n",
              "      <td>NaN</td>\n",
              "      <td>False</td>\n",
              "      <td>0</td>\n",
              "      <td>swn 80</td>\n",
              "      <td>swn 80</td>\n",
              "      <td>handpump</td>\n",
              "      <td>wug</td>\n",
              "      <td>user-group</td>\n",
              "      <td>unknown</td>\n",
              "      <td>unknown</td>\n",
              "      <td>unknown</td>\n",
              "      <td>unknown</td>\n",
              "      <td>unknown</td>\n",
              "      <td>unknown</td>\n",
              "      <td>shallow well</td>\n",
              "      <td>shallow well</td>\n",
              "      <td>groundwater</td>\n",
              "      <td>hand pump</td>\n",
              "      <td>hand pump</td>\n",
              "      <td>functional</td>\n",
              "    </tr>\n",
              "    <tr>\n",
              "      <th>53</th>\n",
              "      <td>32376</td>\n",
              "      <td>0.0</td>\n",
              "      <td>2011-08-01</td>\n",
              "      <td>Government Of Tanzania</td>\n",
              "      <td>0</td>\n",
              "      <td>Government</td>\n",
              "      <td>0.0</td>\n",
              "      <td>-2.000000e-08</td>\n",
              "      <td>Polisi</td>\n",
              "      <td>0</td>\n",
              "      <td>Lake Victoria</td>\n",
              "      <td>Center</td>\n",
              "      <td>Mwanza</td>\n",
              "      <td>19</td>\n",
              "      <td>6</td>\n",
              "      <td>Geita</td>\n",
              "      <td>Nyang'hwale</td>\n",
              "      <td>0</td>\n",
              "      <td>True</td>\n",
              "      <td>GeoData Consultants Ltd</td>\n",
              "      <td>VWC</td>\n",
              "      <td>Nyang'hwale</td>\n",
              "      <td>True</td>\n",
              "      <td>0</td>\n",
              "      <td>submersible</td>\n",
              "      <td>submersible</td>\n",
              "      <td>submersible</td>\n",
              "      <td>vwc</td>\n",
              "      <td>user-group</td>\n",
              "      <td>unknown</td>\n",
              "      <td>unknown</td>\n",
              "      <td>unknown</td>\n",
              "      <td>unknown</td>\n",
              "      <td>dry</td>\n",
              "      <td>dry</td>\n",
              "      <td>machine dbh</td>\n",
              "      <td>borehole</td>\n",
              "      <td>groundwater</td>\n",
              "      <td>communal standpipe multiple</td>\n",
              "      <td>communal standpipe</td>\n",
              "      <td>non functional</td>\n",
              "    </tr>\n",
              "    <tr>\n",
              "      <th>168</th>\n",
              "      <td>72678</td>\n",
              "      <td>0.0</td>\n",
              "      <td>2013-01-30</td>\n",
              "      <td>Wvt</td>\n",
              "      <td>0</td>\n",
              "      <td>WVT</td>\n",
              "      <td>0.0</td>\n",
              "      <td>-2.000000e-08</td>\n",
              "      <td>Wvt Tanzania</td>\n",
              "      <td>0</td>\n",
              "      <td>Lake Victoria</td>\n",
              "      <td>Ilula</td>\n",
              "      <td>Shinyanga</td>\n",
              "      <td>17</td>\n",
              "      <td>1</td>\n",
              "      <td>Bariadi</td>\n",
              "      <td>Chinamili</td>\n",
              "      <td>0</td>\n",
              "      <td>False</td>\n",
              "      <td>GeoData Consultants Ltd</td>\n",
              "      <td>Parastatal</td>\n",
              "      <td>NaN</td>\n",
              "      <td>False</td>\n",
              "      <td>0</td>\n",
              "      <td>gravity</td>\n",
              "      <td>gravity</td>\n",
              "      <td>gravity</td>\n",
              "      <td>parastatal</td>\n",
              "      <td>parastatal</td>\n",
              "      <td>other</td>\n",
              "      <td>other</td>\n",
              "      <td>soft</td>\n",
              "      <td>good</td>\n",
              "      <td>seasonal</td>\n",
              "      <td>seasonal</td>\n",
              "      <td>rainwater harvesting</td>\n",
              "      <td>rainwater harvesting</td>\n",
              "      <td>surface</td>\n",
              "      <td>communal standpipe</td>\n",
              "      <td>communal standpipe</td>\n",
              "      <td>functional</td>\n",
              "    </tr>\n",
              "    <tr>\n",
              "      <th>177</th>\n",
              "      <td>56725</td>\n",
              "      <td>0.0</td>\n",
              "      <td>2013-01-17</td>\n",
              "      <td>Netherlands</td>\n",
              "      <td>0</td>\n",
              "      <td>DWE</td>\n",
              "      <td>0.0</td>\n",
              "      <td>-2.000000e-08</td>\n",
              "      <td>Kikundi Cha Wakina Mama</td>\n",
              "      <td>0</td>\n",
              "      <td>Lake Victoria</td>\n",
              "      <td>Mahaha</td>\n",
              "      <td>Shinyanga</td>\n",
              "      <td>17</td>\n",
              "      <td>1</td>\n",
              "      <td>Bariadi</td>\n",
              "      <td>Bunamhala</td>\n",
              "      <td>0</td>\n",
              "      <td>NaN</td>\n",
              "      <td>GeoData Consultants Ltd</td>\n",
              "      <td>WUG</td>\n",
              "      <td>NaN</td>\n",
              "      <td>False</td>\n",
              "      <td>0</td>\n",
              "      <td>other</td>\n",
              "      <td>other</td>\n",
              "      <td>other</td>\n",
              "      <td>wug</td>\n",
              "      <td>user-group</td>\n",
              "      <td>unknown</td>\n",
              "      <td>unknown</td>\n",
              "      <td>soft</td>\n",
              "      <td>good</td>\n",
              "      <td>enough</td>\n",
              "      <td>enough</td>\n",
              "      <td>shallow well</td>\n",
              "      <td>shallow well</td>\n",
              "      <td>groundwater</td>\n",
              "      <td>other</td>\n",
              "      <td>other</td>\n",
              "      <td>non functional</td>\n",
              "    </tr>\n",
              "    <tr>\n",
              "      <th>253</th>\n",
              "      <td>13042</td>\n",
              "      <td>0.0</td>\n",
              "      <td>2012-10-29</td>\n",
              "      <td>Hesawa</td>\n",
              "      <td>0</td>\n",
              "      <td>DWE</td>\n",
              "      <td>0.0</td>\n",
              "      <td>-2.000000e-08</td>\n",
              "      <td>Kwakisusi</td>\n",
              "      <td>0</td>\n",
              "      <td>Lake Victoria</td>\n",
              "      <td>Nyamatala</td>\n",
              "      <td>Mwanza</td>\n",
              "      <td>19</td>\n",
              "      <td>2</td>\n",
              "      <td>Magu</td>\n",
              "      <td>Malili</td>\n",
              "      <td>0</td>\n",
              "      <td>True</td>\n",
              "      <td>GeoData Consultants Ltd</td>\n",
              "      <td>NaN</td>\n",
              "      <td>NaN</td>\n",
              "      <td>True</td>\n",
              "      <td>0</td>\n",
              "      <td>nira/tanira</td>\n",
              "      <td>nira/tanira</td>\n",
              "      <td>handpump</td>\n",
              "      <td>vwc</td>\n",
              "      <td>user-group</td>\n",
              "      <td>never pay</td>\n",
              "      <td>never pay</td>\n",
              "      <td>soft</td>\n",
              "      <td>good</td>\n",
              "      <td>insufficient</td>\n",
              "      <td>insufficient</td>\n",
              "      <td>shallow well</td>\n",
              "      <td>shallow well</td>\n",
              "      <td>groundwater</td>\n",
              "      <td>hand pump</td>\n",
              "      <td>hand pump</td>\n",
              "      <td>functional needs repair</td>\n",
              "    </tr>\n",
              "  </tbody>\n",
              "</table>\n",
              "</div>"
            ],
            "text/plain": [
              "        id  amount_tsh  ... waterpoint_type_group             status_group\n",
              "21    6091         0.0  ...             hand pump               functional\n",
              "53   32376         0.0  ...    communal standpipe           non functional\n",
              "168  72678         0.0  ...    communal standpipe               functional\n",
              "177  56725         0.0  ...                 other           non functional\n",
              "253  13042         0.0  ...             hand pump  functional needs repair\n",
              "\n",
              "[5 rows x 41 columns]"
            ]
          },
          "metadata": {},
          "execution_count": 302
        }
      ]
    },
    {
      "cell_type": "code",
      "metadata": {
        "colab": {
          "base_uri": "https://localhost:8080/"
        },
        "id": "YcaNH58z7Ybc",
        "outputId": "d1248bd2-4580-411b-d84b-d287a46aaf2b"
      },
      "source": [
        "data.loc[df.longitude == 0].latitude.nunique()"
      ],
      "execution_count": 304,
      "outputs": [
        {
          "output_type": "execute_result",
          "data": {
            "text/plain": [
              "1"
            ]
          },
          "metadata": {},
          "execution_count": 304
        }
      ]
    },
    {
      "cell_type": "code",
      "metadata": {
        "colab": {
          "base_uri": "https://localhost:8080/"
        },
        "id": "2JBp4caA7eCM",
        "outputId": "39993e8a-4f71-4eb8-b666-55ee168cce37"
      },
      "source": [
        "data.loc[df.longitude == 0].gps_height.nunique()"
      ],
      "execution_count": 306,
      "outputs": [
        {
          "output_type": "execute_result",
          "data": {
            "text/plain": [
              "1"
            ]
          },
          "metadata": {},
          "execution_count": 306
        }
      ]
    },
    {
      "cell_type": "markdown",
      "metadata": {
        "id": "uWoLIIZ6gspO"
      },
      "source": [
        "# Data Preperation"
      ]
    },
    {
      "cell_type": "code",
      "metadata": {
        "id": "z_xkqAN1RxDL"
      },
      "source": [
        "def fill_installer_na_and_fill_1(df):\n",
        "    df[\"installer\"] = df[\"installer\"].fillna(\"other\")\n",
        "    a = df.installer.value_counts()\n",
        "    singals = a[a==1].index.to_list()\n",
        "    i = df.query('installer in @singals').index\n",
        "    df.loc[i, \"installer\"] = \"other\"\n",
        "    return df"
      ],
      "execution_count": 260,
      "outputs": []
    },
    {
      "cell_type": "code",
      "metadata": {
        "id": "bAbaiR5bVKYs"
      },
      "source": [
        "def turn_lower_case(df):\n",
        "    df.waterpoint_type = df.waterpoint_type.str.lower()\n",
        "    df.basin = df.basin.str.lower()\n",
        "    df.region = df.region.str.lower()\n",
        "    df.source = df.source.str.lower()\n",
        "    df.lga = df.lga.str.lower()\n",
        "    df.management = df.management.str.lower()\n",
        "    df.quantity = df.quantity.str.lower()\n",
        "    df.water_quality = df.water_quality.str.lower()\n",
        "    df.payment_type=df.payment_type.str.lower()\n",
        "    df.extraction_type=df.extraction_type.str.lower()\n",
        "    return df"
      ],
      "execution_count": 261,
      "outputs": []
    },
    {
      "cell_type": "code",
      "metadata": {
        "id": "xG8xsXfx6cKe"
      },
      "source": [
        "# df1 = data.copy()\n",
        "# df1 = fill_installer_na_and_fill_1(df1)\n",
        "# df1.loc[df1.installer.isnull()]"
      ],
      "execution_count": 262,
      "outputs": []
    },
    {
      "cell_type": "code",
      "metadata": {
        "id": "au4UGisGmnjB"
      },
      "source": [
        "def duration(df):\n",
        "    temp = pd.DataFrame()\n",
        "    temp[\"record_year\"] = df.date_recorded\n",
        "    temp[\"construction_year\"] = pd.to_datetime(df.construction_year)\n",
        "    temp[\"construction_year\"] = pd.DatetimeIndex(temp[\"construction_year\"]).year\n",
        "    temp[\"record_year\"] = pd.to_datetime(temp[\"record_year\"])\n",
        "    temp[\"record_year\"] = pd.DatetimeIndex(temp[\"record_year\"]).year\n",
        "    df[\"duration\"] = temp.record_year - temp.construction_year\n",
        "\n",
        "    return df"
      ],
      "execution_count": 263,
      "outputs": []
    },
    {
      "cell_type": "code",
      "metadata": {
        "id": "_9ZGbz37K8p3"
      },
      "source": [
        "def drop_columns(df):\n",
        "    drop = [\"wpt_name\", \"id\", \"lga\", \"ward\", \n",
        "            \"recorded_by\", \"extraction_type_class\", \"management\", \"management_group\", \n",
        "            \"quantity_group\", \"source_type\", \"payment_type\", \"quality_group\",\n",
        "            \"waterpoint_type_group\", \"funder\", \"subvillage\", \"public_meeting\", \"scheme_name\", \n",
        "            \"scheme_management\", \"permit\", \"extraction_type_group\", \"date_recorded\", \"num_private\", \"source_class\"]\n",
        "\n",
        "    for i in drop:\n",
        "        df.drop(i, axis=1,inplace=True)\n",
        "\n",
        "    return df"
      ],
      "execution_count": 264,
      "outputs": []
    },
    {
      "cell_type": "code",
      "metadata": {
        "id": "vbofa_3hMFKD"
      },
      "source": [
        "def bin_height_train(df):\n",
        "    df['height_grp'],bins = pd.cut(df[\"gps_height\"], 20,retbins=True)\n",
        "    return df , bins"
      ],
      "execution_count": 265,
      "outputs": []
    },
    {
      "cell_type": "code",
      "metadata": {
        "id": "tqeywxq1feUs"
      },
      "source": [
        "def bin_height_test(df, binss):\n",
        "    df[\"height_grp\"] = pd.cut(df[\"gps_height\"], bins=binss)\n",
        "    return df"
      ],
      "execution_count": 266,
      "outputs": []
    },
    {
      "cell_type": "code",
      "metadata": {
        "id": "VGXKpZNxVauB"
      },
      "source": [
        "def location_outliers_correction(df):\n",
        "    df.loc[df.longitude == 0].longitude.replace(0, np.NaN, inplace=True)\n",
        "    df.loc[df.latitude == -2e-08].replace(-2e-08, np.NaN, inplace=True)\n",
        "    df.loc[df.longitude == 0].replace(0, np.NaN, inplace=True)\n",
        "    df.longitude.fillna(df.groupby(\"subvillage\")[\"longitude\"].transform(\"mean\"),inplace=True)\n",
        "    df.latitude.fillna(df.groupby(\"subvillage\")[\"latitude\"].transform(\"mean\"), inplace=True)\n",
        "    df.gps_height.fillna(df.groupby(\"subvillage\")[\"gps_height\"].transform(\"mean\"), inplace=True)\n",
        "    return df"
      ],
      "execution_count": 366,
      "outputs": []
    },
    {
      "cell_type": "code",
      "metadata": {
        "id": "FGVDgDm5MYHM"
      },
      "source": [
        "def label_encoding(df):\n",
        "    encoding_cols = [\"basin\", \"extraction_type\", \"payment\", \"region\", \"water_quality\", \"quantity\", \"source\", \"waterpoint_type\", \"installer\", \"status_group\"]   \n",
        "\n",
        "    encodings = []\n",
        "\n",
        "    for i in encoding_cols:\n",
        "        map = {}\n",
        "        uni_vals = df[i].unique()\n",
        "        k = 0\n",
        "        for j in uni_vals:\n",
        "            map[j] = k\n",
        "            k += 1\n",
        "        encodings.append(map)\n",
        "\n",
        "    l = 0\n",
        "    for i in encoding_cols:\n",
        "        df[i] = df[i].map(encodings[l]).astype(\"category\")\n",
        "        l += 1\n",
        "\n",
        "    return df, encodings\n",
        "\n"
      ],
      "execution_count": 268,
      "outputs": []
    },
    {
      "cell_type": "code",
      "metadata": {
        "id": "QrLZPOs5-kHo"
      },
      "source": [
        "def label_encoding_test_set(df, encodings):\n",
        "    encoding_cols = [\"basin\",\"extraction_type\", \"payment\", \"region\", \"water_quality\", \"quantity\", \"source\", \"waterpoint_type\", \"installer\"]\n",
        "\n",
        "    # keys = encodings.keys()\n",
        "\n",
        "    # stop = False\n",
        "    # k = 0\n",
        "    # for i in encoding_cols:\n",
        "    #     map = {}\n",
        "    #     uni_vals = df[i].unique()\n",
        "    #     for j in range(len(keys[k])):\n",
        "    #         if (uni_vals[j] in keys):\n",
        "    #             continue\n",
        "    #         else:\n",
        "    #             print(uni_vals[j] + \" not in the keys\")\n",
        "    #             stop = True\n",
        "    #     k += 1\n",
        "\n",
        "    # if(stop):\n",
        "    #     return\n",
        "\n",
        "    l = 0\n",
        "    for i in encoding_cols:\n",
        "        df[i] = df[i].map(encodings[l]).astype(\"category\")\n",
        "        l += 1\n",
        "    \n",
        "    return df\n"
      ],
      "execution_count": 269,
      "outputs": []
    },
    {
      "cell_type": "code",
      "metadata": {
        "id": "4_rCGzT4bCkt"
      },
      "source": [
        "def plot_features_importances(classifier, X_train):\n",
        "    series = pd.Series(classifier.feature_importances_, index=X_train.columns).sort_values(ascending=True)\n",
        "    series = series.plot(kind='barh', figsize=(10,10))\n",
        "    plt.xlabel('Feature importance')\n",
        "    plt.ylabel('Features')\n",
        "    plt.show()"
      ],
      "execution_count": 270,
      "outputs": []
    },
    {
      "cell_type": "markdown",
      "metadata": {
        "id": "mGif1DzyOVav"
      },
      "source": [
        "# Model Training"
      ]
    },
    {
      "cell_type": "code",
      "metadata": {
        "id": "XXuD-j_uOtwK",
        "colab": {
          "base_uri": "https://localhost:8080/"
        },
        "outputId": "f47042b4-63e4-48e5-f8c9-33b190f9e746"
      },
      "source": [
        "df_train = data.copy()\n",
        "# df_trian = duration(df_train)\n",
        "df_train = location_outliers_correction(df_train)\n",
        "# df_train, bins = bin_height_train(df_train)\n",
        "df_train = fill_installer_na_and_fill_1(df_train)\n",
        "df_train, encodings = label_encoding(df_train)\n",
        "output_maps = encodings[-1]\n",
        "df_train = drop_columns(df_train)\n",
        "df_train.dtypes"
      ],
      "execution_count": 367,
      "outputs": [
        {
          "output_type": "stream",
          "name": "stderr",
          "text": [
            "/usr/local/lib/python3.7/dist-packages/pandas/core/series.py:4582: SettingWithCopyWarning: \n",
            "A value is trying to be set on a copy of a slice from a DataFrame\n",
            "\n",
            "See the caveats in the documentation: https://pandas.pydata.org/pandas-docs/stable/user_guide/indexing.html#returning-a-view-versus-a-copy\n",
            "  method=method,\n",
            "/usr/local/lib/python3.7/dist-packages/pandas/core/frame.py:4389: SettingWithCopyWarning: \n",
            "A value is trying to be set on a copy of a slice from a DataFrame\n",
            "\n",
            "See the caveats in the documentation: https://pandas.pydata.org/pandas-docs/stable/user_guide/indexing.html#returning-a-view-versus-a-copy\n",
            "  method=method,\n",
            "/usr/local/lib/python3.7/dist-packages/pandas/core/frame.py:4389: SettingWithCopyWarning: \n",
            "A value is trying to be set on a copy of a slice from a DataFrame\n",
            "\n",
            "See the caveats in the documentation: https://pandas.pydata.org/pandas-docs/stable/user_guide/indexing.html#returning-a-view-versus-a-copy\n",
            "  method=method,\n"
          ]
        },
        {
          "output_type": "execute_result",
          "data": {
            "text/plain": [
              "amount_tsh            float64\n",
              "gps_height              int64\n",
              "installer            category\n",
              "longitude             float64\n",
              "latitude              float64\n",
              "basin                category\n",
              "region               category\n",
              "region_code             int64\n",
              "district_code           int64\n",
              "population              int64\n",
              "construction_year       int64\n",
              "extraction_type      category\n",
              "payment              category\n",
              "water_quality        category\n",
              "quantity             category\n",
              "source               category\n",
              "waterpoint_type      category\n",
              "status_group         category\n",
              "dtype: object"
            ]
          },
          "metadata": {},
          "execution_count": 367
        }
      ]
    },
    {
      "cell_type": "code",
      "metadata": {
        "id": "qmR4S1FxBs0G"
      },
      "source": [
        "from sklearn.model_selection import StratifiedShuffleSplit\n",
        "from sklearn.metrics import accuracy_score, log_loss\n",
        "from sklearn.neighbors import KNeighborsClassifier\n",
        "from sklearn.svm import SVC\n",
        "from sklearn.tree import DecisionTreeClassifier\n",
        "from sklearn.ensemble import RandomForestClassifier, AdaBoostClassifier, GradientBoostingClassifier\n",
        "from sklearn.naive_bayes import GaussianNB\n",
        "from sklearn.discriminant_analysis import LinearDiscriminantAnalysis, QuadraticDiscriminantAnalysis\n",
        "from sklearn.linear_model import LogisticRegression\n",
        "\n",
        "from sklearn.model_selection import train_test_split"
      ],
      "execution_count": 368,
      "outputs": []
    },
    {
      "cell_type": "code",
      "metadata": {
        "id": "yAHSKKANHiWQ"
      },
      "source": [
        "\n",
        "# classifiers = [\n",
        "\n",
        "#     RandomForestClassifier(n_estimators=200)\n",
        "# ]\n",
        "\n",
        "# # classifiers = [\n",
        "# #     KNeighborsClassifier(3),\n",
        "# #     SVC(probability=True),\n",
        "# #     DecisionTreeClassifier(),\n",
        "# #     RandomForestClassifier(),\n",
        "# # \tAdaBoostClassifier(),\n",
        "# #     GradientBoostingClassifier(),\n",
        "# #     GaussianNB(),\n",
        "# #     LinearDiscriminantAnalysis(),\n",
        "# #     QuadraticDiscriminantAnalysis(),\n",
        "# #     LogisticRegression()]\n",
        "\n",
        "# log_cols = [\"Classifier\", \"Accuracy\"]\n",
        "# log \t = pd.DataFrame(columns=log_cols)\n",
        "\n",
        "# sss = StratifiedShuffleSplit(n_splits=10, test_size=0.1, random_state=0)\n",
        "\n",
        "# X = df_train.loc[:, \"amount_tsh\":\"waterpoint_type_group\"]\n",
        "# y = df_train.loc[:, \"status_group\"]\n",
        "\n",
        "# acc_dict = {}\n",
        "\n",
        "\n",
        "# for train_index, test_index in sss.split(X, y):\n",
        "# \tX_train, X_test, y_train, y_test = train_test_split(X,y, test_size=0.1)\n",
        "\t\n",
        "# \tfor clf in classifiers:\n",
        "# \t\tname = clf.__class__.__name__\n",
        "# \t\tclf.fit(X_train, y_train)\n",
        "# \t\ttrain_predictions = clf.predict(X_test)\n",
        "# \t\tacc = accuracy_score(y_test, train_predictions)\n",
        "# \t\tif name in acc_dict:\n",
        "# \t\t\tacc_dict[name] += acc\n",
        "# \t\telse:\n",
        "# \t\t\tacc_dict[name] = acc\n",
        "\n",
        "# for clf in acc_dict:\n",
        "# \tacc_dict[clf] = acc_dict[clf] / 10.0\n",
        "# \tlog_entry = pd.DataFrame([[clf, acc_dict[clf]]], columns=log_cols)\n",
        "# \tlog = log.append(log_entry)\n",
        "\n",
        "# plt.xlabel('Accuracy')\n",
        "# plt.title('Classifier Accuracy')\n",
        "\n",
        "# sns.set_color_codes(\"muted\")\n",
        "# sns.barplot(x='Accuracy', y='Classifier', data=log, color=\"b\")"
      ],
      "execution_count": 273,
      "outputs": []
    },
    {
      "cell_type": "code",
      "metadata": {
        "id": "BNtPzdpmI5rF"
      },
      "source": [
        "test_data = pd.read_csv(test_path)\n",
        "test_ids = test_data.id"
      ],
      "execution_count": 369,
      "outputs": []
    },
    {
      "cell_type": "code",
      "metadata": {
        "id": "sbvV8TucXC3Q",
        "colab": {
          "base_uri": "https://localhost:8080/"
        },
        "outputId": "1a529ebd-fdc4-48b5-e6fb-27d69ced4657"
      },
      "source": [
        "df_test = test_data.copy()\n",
        "# df_test = duration(df_test)\n",
        "df_test = location_outliers_correction(df_test)\n",
        "# df_test = bin_height_test(df_test, bins)\n",
        "df_test = fill_installer_na_and_fill_1(df_test)\n",
        "df_test = label_encoding_test_set(df_test, encodings)\n",
        "df_test.loc[df_test.installer.isnull()]\n",
        "df_test = drop_columns(df_test)\n",
        "df_test.dtypes"
      ],
      "execution_count": 370,
      "outputs": [
        {
          "output_type": "stream",
          "name": "stderr",
          "text": [
            "/usr/local/lib/python3.7/dist-packages/pandas/core/series.py:4582: SettingWithCopyWarning: \n",
            "A value is trying to be set on a copy of a slice from a DataFrame\n",
            "\n",
            "See the caveats in the documentation: https://pandas.pydata.org/pandas-docs/stable/user_guide/indexing.html#returning-a-view-versus-a-copy\n",
            "  method=method,\n",
            "/usr/local/lib/python3.7/dist-packages/pandas/core/frame.py:4389: SettingWithCopyWarning: \n",
            "A value is trying to be set on a copy of a slice from a DataFrame\n",
            "\n",
            "See the caveats in the documentation: https://pandas.pydata.org/pandas-docs/stable/user_guide/indexing.html#returning-a-view-versus-a-copy\n",
            "  method=method,\n",
            "/usr/local/lib/python3.7/dist-packages/pandas/core/frame.py:4389: SettingWithCopyWarning: \n",
            "A value is trying to be set on a copy of a slice from a DataFrame\n",
            "\n",
            "See the caveats in the documentation: https://pandas.pydata.org/pandas-docs/stable/user_guide/indexing.html#returning-a-view-versus-a-copy\n",
            "  method=method,\n"
          ]
        },
        {
          "output_type": "execute_result",
          "data": {
            "text/plain": [
              "amount_tsh            float64\n",
              "gps_height              int64\n",
              "installer            category\n",
              "longitude             float64\n",
              "latitude              float64\n",
              "basin                category\n",
              "region               category\n",
              "region_code             int64\n",
              "district_code           int64\n",
              "population              int64\n",
              "construction_year       int64\n",
              "extraction_type      category\n",
              "payment              category\n",
              "water_quality        category\n",
              "quantity             category\n",
              "source               category\n",
              "waterpoint_type      category\n",
              "dtype: object"
            ]
          },
          "metadata": {},
          "execution_count": 370
        }
      ]
    },
    {
      "cell_type": "code",
      "metadata": {
        "id": "vMjP-smGPJMs"
      },
      "source": [
        "# i = df_test.loc[df_test.height_grp.isna()].index\n",
        "# df_test.loc[i, \"height_grp\"] = 19"
      ],
      "execution_count": 371,
      "outputs": []
    },
    {
      "cell_type": "code",
      "metadata": {
        "id": "nDqLsb5C8Tbm"
      },
      "source": [
        "df_test.installer.fillna(19,inplace=True)\n",
        "# df_test.installer"
      ],
      "execution_count": 372,
      "outputs": []
    },
    {
      "cell_type": "code",
      "metadata": {
        "colab": {
          "base_uri": "https://localhost:8080/"
        },
        "id": "Cdz1hG0nZ-lM",
        "outputId": "e19cdd61-20e3-48f1-b0a2-411df9a605fb"
      },
      "source": [
        "df_train.dtypes"
      ],
      "execution_count": 373,
      "outputs": [
        {
          "output_type": "execute_result",
          "data": {
            "text/plain": [
              "amount_tsh            float64\n",
              "gps_height              int64\n",
              "installer            category\n",
              "longitude             float64\n",
              "latitude              float64\n",
              "basin                category\n",
              "region               category\n",
              "region_code             int64\n",
              "district_code           int64\n",
              "population              int64\n",
              "construction_year       int64\n",
              "extraction_type      category\n",
              "payment              category\n",
              "water_quality        category\n",
              "quantity             category\n",
              "source               category\n",
              "waterpoint_type      category\n",
              "status_group         category\n",
              "dtype: object"
            ]
          },
          "metadata": {},
          "execution_count": 373
        }
      ]
    },
    {
      "cell_type": "code",
      "metadata": {
        "id": "ETYcRexaBZo6",
        "colab": {
          "base_uri": "https://localhost:8080/"
        },
        "outputId": "d40754f9-2db9-42b0-a8b2-7bdf61d35b7e"
      },
      "source": [
        "X = df_train.loc[:, \"amount_tsh\":\"waterpoint_type\"]\n",
        "# X[\"duration\"] = df_train[\"duration\"]\n",
        "# X[\"height_grp\"] = df_train[\"height_grp\"]\n",
        "y = df_train.loc[:, \"status_group\"]\n",
        "\n",
        "clf = RandomForestClassifier(n_estimators=200)\n",
        "clf.fit(X, y)\n"
      ],
      "execution_count": 374,
      "outputs": [
        {
          "output_type": "execute_result",
          "data": {
            "text/plain": [
              "RandomForestClassifier(bootstrap=True, ccp_alpha=0.0, class_weight=None,\n",
              "                       criterion='gini', max_depth=None, max_features='auto',\n",
              "                       max_leaf_nodes=None, max_samples=None,\n",
              "                       min_impurity_decrease=0.0, min_impurity_split=None,\n",
              "                       min_samples_leaf=1, min_samples_split=2,\n",
              "                       min_weight_fraction_leaf=0.0, n_estimators=200,\n",
              "                       n_jobs=None, oob_score=False, random_state=None,\n",
              "                       verbose=0, warm_start=False)"
            ]
          },
          "metadata": {},
          "execution_count": 374
        }
      ]
    },
    {
      "cell_type": "code",
      "metadata": {
        "id": "7j-KQGAVbM6o",
        "colab": {
          "base_uri": "https://localhost:8080/",
          "height": 602
        },
        "outputId": "46eac610-974c-4952-993d-286f02e29d1b"
      },
      "source": [
        "plot_features_importances(clf, X)"
      ],
      "execution_count": 375,
      "outputs": [
        {
          "output_type": "display_data",
          "data": {
            "image/png": "[encoded data removed]",
            "text/plain": [
              "<Figure size 720x720 with 1 Axes>"
            ]
          },
          "metadata": {}
        }
      ]
    },
    {
      "cell_type": "code",
      "metadata": {
        "id": "8rAkV2dcCuva"
      },
      "source": [
        "test_predictions = clf.predict(df_test)"
      ],
      "execution_count": 376,
      "outputs": []
    },
    {
      "cell_type": "code",
      "metadata": {
        "id": "isEoM3BlC9FB",
        "colab": {
          "base_uri": "https://localhost:8080/",
          "height": 414
        },
        "outputId": "654cb384-903b-4c77-b6b3-1f7744d6319d"
      },
      "source": [
        "test_results = pd.DataFrame({'id': test_ids, 'status_group': test_predictions})\n",
        "output_maps = {value:key for key, value in output_maps.items()}\n",
        "test_results[\"status_group\"] = test_results[\"status_group\"].map(output_maps)\n",
        "test_results"
      ],
      "execution_count": 377,
      "outputs": [
        {
          "output_type": "execute_result",
          "data": {
            "text/html": [
              "<div>\n",
              "<style scoped>\n",
              "    .dataframe tbody tr th:only-of-type {\n",
              "        vertical-align: middle;\n",
              "    }\n",
              "\n",
              "    .dataframe tbody tr th {\n",
              "        vertical-align: top;\n",
              "    }\n",
              "\n",
              "    .dataframe thead th {\n",
              "        text-align: right;\n",
              "    }\n",
              "</style>\n",
              "<table border=\"1\" class=\"dataframe\">\n",
              "  <thead>\n",
              "    <tr style=\"text-align: right;\">\n",
              "      <th></th>\n",
              "      <th>id</th>\n",
              "      <th>status_group</th>\n",
              "    </tr>\n",
              "  </thead>\n",
              "  <tbody>\n",
              "    <tr>\n",
              "      <th>0</th>\n",
              "      <td>50785</td>\n",
              "      <td>functional</td>\n",
              "    </tr>\n",
              "    <tr>\n",
              "      <th>1</th>\n",
              "      <td>51630</td>\n",
              "      <td>functional</td>\n",
              "    </tr>\n",
              "    <tr>\n",
              "      <th>2</th>\n",
              "      <td>17168</td>\n",
              "      <td>functional</td>\n",
              "    </tr>\n",
              "    <tr>\n",
              "      <th>3</th>\n",
              "      <td>45559</td>\n",
              "      <td>non functional</td>\n",
              "    </tr>\n",
              "    <tr>\n",
              "      <th>4</th>\n",
              "      <td>49871</td>\n",
              "      <td>functional</td>\n",
              "    </tr>\n",
              "    <tr>\n",
              "      <th>...</th>\n",
              "      <td>...</td>\n",
              "      <td>...</td>\n",
              "    </tr>\n",
              "    <tr>\n",
              "      <th>14845</th>\n",
              "      <td>39307</td>\n",
              "      <td>non functional</td>\n",
              "    </tr>\n",
              "    <tr>\n",
              "      <th>14846</th>\n",
              "      <td>18990</td>\n",
              "      <td>functional</td>\n",
              "    </tr>\n",
              "    <tr>\n",
              "      <th>14847</th>\n",
              "      <td>28749</td>\n",
              "      <td>functional</td>\n",
              "    </tr>\n",
              "    <tr>\n",
              "      <th>14848</th>\n",
              "      <td>33492</td>\n",
              "      <td>functional</td>\n",
              "    </tr>\n",
              "    <tr>\n",
              "      <th>14849</th>\n",
              "      <td>68707</td>\n",
              "      <td>non functional</td>\n",
              "    </tr>\n",
              "  </tbody>\n",
              "</table>\n",
              "<p>14850 rows × 2 columns</p>\n",
              "</div>"
            ],
            "text/plain": [
              "          id    status_group\n",
              "0      50785      functional\n",
              "1      51630      functional\n",
              "2      17168      functional\n",
              "3      45559  non functional\n",
              "4      49871      functional\n",
              "...      ...             ...\n",
              "14845  39307  non functional\n",
              "14846  18990      functional\n",
              "14847  28749      functional\n",
              "14848  33492      functional\n",
              "14849  68707  non functional\n",
              "\n",
              "[14850 rows x 2 columns]"
            ]
          },
          "metadata": {},
          "execution_count": 377
        }
      ]
    },
    {
      "cell_type": "code",
      "metadata": {
        "id": "qVTMTPcwIpYa"
      },
      "source": [
        "output_path = \"/content/drive/MyDrive/Colab Notebooks/ML_final_project/RD_6.csv\"\n",
        "test_results.to_csv(output_path,index=False)"
      ],
      "execution_count": 378,
      "outputs": []
    },
    {
      "cell_type": "code",
      "metadata": {
        "id": "xGPP-VY3PeCT",
        "colab": {
          "base_uri": "https://localhost:8080/"
        },
        "outputId": "f5c7e662-1b90-4ebe-bbe0-8b9c17965c91"
      },
      "source": [
        "test_results.dtypes"
      ],
      "execution_count": 379,
      "outputs": [
        {
          "output_type": "execute_result",
          "data": {
            "text/plain": [
              "id               int64\n",
              "status_group    object\n",
              "dtype: object"
            ]
          },
          "metadata": {},
          "execution_count": 379
        }
      ]
    },
    {
      "cell_type": "code",
      "metadata": {
        "id": "5NXu4WipPiJh"
      },
      "source": [
        ""
      ],
      "execution_count": 284,
      "outputs": []
    }
  ]
}